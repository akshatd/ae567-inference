{
 "cells": [
  {
   "cell_type": "code",
   "execution_count": 3,
   "metadata": {},
   "outputs": [],
   "source": [
    "%matplotlib inline\n",
    "import numpy as np\n",
    "import scipy.stats as stats\n",
    "import sympy\n",
    "import matplotlib.pyplot as plt"
   ]
  },
  {
   "cell_type": "markdown",
   "metadata": {},
   "source": [
    "# Maximum Likelihood Estimation: the regression context\n",
    "Alex Gorodetsky, October 2020, Updated October 21\n",
    "\n",
    "\n",
    "In this notebook we look at maximum likelihood estimation for the regression problem. \n",
    "\n",
    "\n",
    "\n",
    "## The regression problem \n",
    "\n",
    "This problem is defined by data $d = (x,y)$ that arrives in input-output pairs such that the output $y \\in \\mathcal{Y} \\subset \\mathbb{R}^{n}$ is a real number. We will also consider that the input is a real number $x \\in \\mathcal{X} \\subset \\mathbb{R}^{m}$. The goal of regression is to learn some map (function) $f:\\mathcal{X} \\to \\mathcal{Y}$ from the input to the output space. In other words, the regression problem seeks to learn $f$ given this data. \n",
    "\n",
    "As we have discussed, to fully specify a learning problem we first need to identify the parameters $\\theta$ and the sampling distribution. The parameters $\\theta$ come from a specification of the space of functions over which we search for a good $f$, the sampling distribution comes from a noise model."
   ]
  },
  {
   "cell_type": "markdown",
   "metadata": {},
   "source": [
    "### The search space \n",
    "Whenever we want to learn something in the frequentist context we must specify a feasible space $\\mathcal{F}$ from which to choose the \"best\" object --- in the Bayesian case we also have the prior that performs this function. Here are some examples:\n",
    "\n",
    "1. The space of linear functions $\\mathcal{F} = \\{ f(x) \\ ; \\ f(x) = w^T x + b\\}$, this space is defined by the slope $w$ and the offset $b$; ($\\theta = (w, b)$)\n",
    "2. The space of polynomial functions $\\mathcal{F} = \\{f(x) \\ ; \\ f(x) = \\sum_{i=0}^p \\theta_i x^i \\}$ for some polynomial order $p$ (higher-dimensional extensions are also possible)\n",
    "3. The space of neural networks of a fixed depth $d$ and width $p$: $\\mathcal{F} = \\{f(x) \\ ; \\ f(x) = \\mathcal{NN}(W_1,\\ldots, W_d)\\}$; ($\\theta = (W_1,\\ldots,W_d)$)\n",
    "\n",
    "Example:\n",
    "$$f(x) = \\sigma(W_1 \\sigma(W_2 \\ldots \\sigma(W_d x)))$$\n",
    "\n",
    "The first two are *linear* spaces, the functions are **linear in their unknowns**. The space of neural networks is a nonlinear space --- the function is **nonlinear in the weights.** You often hear a lot of noise in the media/literature that neural networks are good because they are \"universal approximators\" --- this is nonsense. Taylor series (a polynomial space) is also a universal approximator. A more correct verbiage is that neural networks are more *expressive* than polynomial functions for *a fixed number of parameters* (even this has some technical points). This expressivity / representation capacity comes from the fact that they are a particular type of nonlinear approximation space.\n",
    "\n",
    "The main idea is that this choice of function space is very important -- it should be done in a way that balances (1) prior knowledge; (2) representation capacity; and (3) computational expense."
   ]
  },
  {
   "cell_type": "markdown",
   "metadata": {},
   "source": [
    "### The noise model\n",
    "Next we need a noise model. This means that we essentially account for the fact that for any choice of $\\mathcal{F}$ no model in $\\mathcal{F}$ will ever perfectly represent the data. We need to somehow account for this \"error\" -- this is done via a noise model. Aside from other knowledge the standard noise model is a Gaussian so that we have \n",
    "\n",
    "\\begin{equation}\n",
    "Y = f(x; \\theta) + \\xi, \\quad \\xi \\sim \\mathcal{N}(0, \\Gamma)\n",
    "\\end{equation}\n",
    "where $\\Gamma \\in \\mathbb{R}^{n \\times n}$ is a covariance matrix. We have seen before that this noise model implies a Gaussian sampling distribution.\n",
    "\n",
    "\\begin{equation}\n",
    "f_{(Y,x) \\mid \\Theta}(y \\mid x, \\theta) = \\frac{1}{\\left(2\\pi\\right)^{n/2}|\\Gamma|^{1/2}} \\exp\\left(-\\frac{1}{2} \\lVert y - f(x ;\\theta)\\rVert_\\Gamma^2 \\right)\n",
    "\\end{equation}"
   ]
  },
  {
   "cell_type": "markdown",
   "metadata": {},
   "source": [
    "## The linear case\n",
    "\n",
    "We will focus our current attention on the linear function space (we will later see a polynomial function space as well). This space both allows very efficient algorithms, but the concepts also underpin more complex function spaces. For demonstration purposes we will also consider that $n=1$.\n",
    "\n",
    "The unknowns in this linear case is a set of parameters $\\theta = (\\theta_0, \\theta_1, \\ldots, \\theta_m)$; consisting of a single offset intercept ($\\theta_0$) and $m$ slopes so that \n",
    "\n",
    "\\begin{equation}\n",
    "f(x; \\theta) = \\theta_0 + \\theta_{1:m}^T x\n",
    "\\end{equation}\n",
    "\n",
    "The sampling distribution becomes\n",
    "\n",
    "\\begin{equation}\n",
    "f_{(Y,x) \\mid \\Theta}(y \\mid x, \\theta) = \\frac{1}{\\left(2\\pi\\right)^{n/2}|\\Gamma|^{1/2}} \\exp\\left(-\\frac{1}{2} \\lVert y - \\theta_0 - \\theta_{1:m}^T x \\rVert_\\Gamma^2 \\right)\n",
    "\\end{equation}\n",
    "\n",
    "Lets now derive the likelihood. Suppose that the data consists of $N$ independent input-output pairs $\\left(x^{(i)},y^{(i)}\\right)_{i=1}^N$. Then we obtain\n",
    "\n",
    "\\begin{equation}\n",
    "\\mathcal{L}(\\theta) = \\left(\\frac{1}{\\left(2\\pi\\right)^{1/2}\\sigma}\\right)^{N}  \\prod_{i=1}^N \\exp\\left(-\\frac{1}{2\\sigma^2} \\left( y^{(i)} - \\theta_0 - \\theta_{1:m}^T x^{(i)}\\right)^2 \\right)\n",
    "\\end{equation}\n",
    "\n",
    "The log-likelihood becomes\n",
    "\n",
    "\\begin{equation}\n",
    "L\\mathcal{L}(\\theta) = -\\frac{N}{2} \\log 2\\pi - \\frac{N}{2} \\log | \\sigma | - \\frac{1}{2\\sigma^2} \\sum_{i=1}^N  \\left(y^{(i)} - \\theta_0 - \\theta_{1:m}^T x^{(i)} \\right)^2\n",
    "\\end{equation}"
   ]
  },
  {
   "cell_type": "markdown",
   "metadata": {},
   "source": [
    "## Breakout sessions\n",
    "\n",
    "1. Write the sampling distribution for the case when $n > 1$ Specify what the parameters are in this case: $\\theta_0 $ now becomes a $n \\times 1$ vector and $\\theta_{1:m}$ now becomes an $n \\times m$  where $x$ is an $m \\times 1$ vector.\n",
    "2. What happens to the likelihood if each data point is independent; however the noise is dependent on $x$ so that we have $\\Gamma(x)$ instead of a fixed $\\Gamma$? \n",
    "\n",
    "\\begin{equation}\n",
    "\\mathcal{L}(\\theta) = \\left(\\frac{1}{\\left(2\\pi\\right)^{1/2}}\\right)^{N}  \\prod_{i=1}^N \\frac{1}{\\sigma(x^{(i)})} \\exp\\left(-\\frac{1}{2\\sigma(x^{(i)})^2} \\left( y^{(i)} - \\theta_0 - \\theta_{1:m}^T x^{(i)}\\right)^2 \\right)\n",
    "\\end{equation}\n",
    "\n",
    "3. Derive the maximum likelihood estimate of the coefficients for original likelihood given above."
   ]
  },
  {
   "cell_type": "markdown",
   "metadata": {},
   "source": [
    "# Maximum Likelihood estimation\n",
    "\n",
    "Lets now take a look at the maximum likelihood estimator $\\theta^{MLE} = \\arg \\max L \\mathcal{L}(\\theta)$. This is a linear least squares problem. We can find the solution by setting the gradient of the log likelihood to zero. This yields the following equation\n",
    "\\begin{align}\n",
    "\\theta^{MLE} &= \\left(\\sum_{i=1}^N \\begin{bmatrix} 1 \\\\ x^{(i)} \\end{bmatrix} \\left[1 \\ x^{(i)^T}\\right] \\right)^{\\dagger} \\begin{bmatrix}\n",
    "\\sum_{i=1}^N y^{(i)} \\\\\n",
    "\\sum_{i=1}^N y^{(i)} x^{(i)}\n",
    "\\end{bmatrix} \\\\\n",
    "   &= \n",
    "   \\left( \n",
    "   \\begin{bmatrix}\n",
    "   N & \\sum_{i=1}^N x^{(i)^T}  \\\\\n",
    "   \\sum_{i=1}^N x^{(i)} & \\sum_{i=1}^N x^{(i)} x^{(i)^T}\n",
    "   \\end{bmatrix}\n",
    "   \\right)^{\\dagger} \n",
    "   \\begin{bmatrix}\n",
    "    \\sum_{i=1}^N y^{(i)} \\\\\n",
    "    \\sum_{i=1}^N y^{(i)} x^{(i)}\n",
    "    \\end{bmatrix}\n",
    "\\end{align}\n",
    "Notice that invertibility would have required at least $m+1$ datapoints\n",
    "\n",
    "**Note this is a very specialized case of the linear-Gaussian problem in the notes:** How is it specialized?"
   ]
  },
  {
   "cell_type": "code",
   "execution_count": 26,
   "metadata": {},
   "outputs": [],
   "source": [
    "def linear_least_squares_mle(x, y):\n",
    "    \"\"\"Perform Linear Least Squares with constant measurement noise for a scalar output\n",
    "    \n",
    "    Inputs\n",
    "    -------\n",
    "    x: (N, d) array of inputs\n",
    "    y: (N) array of outputs\n",
    "        \n",
    "    Returns\n",
    "    --------\n",
    "    Maximum likelihood estimate\n",
    "    \"\"\"\n",
    "    N, d = x.shape\n",
    "    A = np.zeros((d+1, d+1))\n",
    "    A[0, 0] = N\n",
    "    sumx = np.sum(x, axis=0)\n",
    "    A[0, 1:] = sumx\n",
    "    A[1:, 0] = sumx\n",
    "    A[1:, 1:] = np.einsum('nd,nm->dm', x, x)\n",
    "\n",
    "    b = np.zeros((d+1))\n",
    "    b[0] = np.sum(y)\n",
    "    b[1:] = np.sum(np.tile(y[:, np.newaxis], (1, d) ) * x, axis=0)\n",
    " \n",
    "    return np.linalg.solve(A, b)"
   ]
  },
  {
   "cell_type": "markdown",
   "metadata": {},
   "source": [
    "## Example for one-dimensional regression"
   ]
  },
  {
   "cell_type": "code",
   "execution_count": 51,
   "metadata": {},
   "outputs": [
    {
     "name": "stdout",
     "output_type": "stream",
     "text": [
      "Maximum Likelihood Estimate:  [-0.2105794  0.9908608]\n"
     ]
    },
    {
     "data": {
      "image/png": "[encoded data removed]",
      "text/plain": [
       "<Figure size 504x504 with 1 Axes>"
      ]
     },
     "metadata": {
      "needs_background": "light"
     },
     "output_type": "display_data"
    }
   ],
   "source": [
    "def example1d(num_data=4, noise_std=1e-2):\n",
    "    #np.random.seed(5)\n",
    "    # Setup Training data\n",
    "    ftrue = lambda x: x*np.sin(x)\n",
    "    #ftrue = lambda x: 0.2 * x + 1\n",
    "    xtrain = np.random.rand(num_data)\n",
    "    ytrain = ftrue(xtrain) + noise_std * np.random.randn(num_data)\n",
    "    \n",
    "    # Compute MLE Estimator\n",
    "    theta_mle = linear_least_squares_mle(xtrain[:, np.newaxis], ytrain)\n",
    "    print(\"Maximum Likelihood Estimate: \", theta_mle)\n",
    "    \n",
    "    # Generate Predictions\n",
    "    xtest = np.linspace(0, 1, 100)\n",
    "    ytest = ftrue(xtest)\n",
    "    ypredict = theta_mle[0] + theta_mle[1] * xtest\n",
    "\n",
    "    plt.figure(figsize=(7,7))\n",
    "    plt.plot(xtrain, ytrain, 'ko', label='Training Data')\n",
    "    plt.plot(xtest, ytest, '--b', lw=5, label='True Function')\n",
    "    plt.plot(xtest, ypredict, '-r', lw=5, label='Predicted Function')\n",
    "    plt.xlabel(r'$x$', fontsize=14)\n",
    "    plt.ylabel(r'$y$', fontsize=14)\n",
    "    plt.xticks(fontsize=12)\n",
    "    plt.yticks(fontsize=12)\n",
    "    plt.legend(fontsize=14)\n",
    "    plt.show()\n",
    "    \n",
    "# play arond with the number of data and size of the noise\n",
    "example1d(num_data=18, noise_std=1e-1)"
   ]
  },
  {
   "cell_type": "code",
   "execution_count": null,
   "metadata": {},
   "outputs": [],
   "source": []
  },
  {
   "cell_type": "code",
   "execution_count": null,
   "metadata": {},
   "outputs": [],
   "source": []
  }
 ],
 "metadata": {
  "kernelspec": {
   "display_name": "Python 3",
   "language": "python",
   "name": "python3"
  },
  "language_info": {
   "codemirror_mode": {
    "name": "ipython",
    "version": 3
   },
   "file_extension": ".py",
   "mimetype": "text/x-python",
   "name": "python",
   "nbconvert_exporter": "python",
   "pygments_lexer": "ipython3",
   "version": "3.7.3"
  }
 },
 "nbformat": 4,
 "nbformat_minor": 2
}
