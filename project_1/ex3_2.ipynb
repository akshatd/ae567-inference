{
 "cells": [
  {
   "cell_type": "code",
   "execution_count": 2,
   "metadata": {},
   "outputs": [],
   "source": [
    "%matplotlib widget\n",
    "\n",
    "from dataclasses import dataclass\n",
    "import matplotlib.pyplot as plt\n",
    "import numpy as np\n",
    "from math import comb\n",
    "\n",
    "from typing import Callable\n",
    "from montecarlo import monte_carlo, MonteCarloEstimate"
   ]
  },
  {
   "cell_type": "code",
   "execution_count": 5,
   "metadata": {},
   "outputs": [
    {
     "name": "stdout",
     "output_type": "stream",
     "text": [
      "MC estimate with 100000 trials with 100 steps in each trial for P(S>10): 8.020500e-01\n"
     ]
    }
   ],
   "source": [
    "# 2.2.a functions for 3-d rw\n",
    "S = 10\n",
    "NSTEPS = 100\n",
    "NTRIALS = 10**5\n",
    "\n",
    "\n",
    "def gaus_rw(ntrials):\n",
    "    \"\"\"sample_generator, Generate random walks for a number of trials\"\"\"\n",
    "    return np.random.randn(ntrials, NSTEPS, 3)\n",
    "\n",
    "\n",
    "def gaus_rw_test(samples):\n",
    "    \"\"\"g_evaluator, Evaluate the indicator function for total distance travelled, S > 10\"\"\"\n",
    "    return np.where(np.linalg.norm(np.sum(samples, axis=1), axis=1) > S, 1, 0)\n",
    "\n",
    "\n",
    "# 2.2.b Monte Carlo estimate for P(S>10)\n",
    "mc_est = monte_carlo(NTRIALS, gaus_rw, gaus_rw_test)\n",
    "print(\n",
    "    f\"MC estimate with {NTRIALS} trials with {NSTEPS} steps in each trial for P(S>10): {mc_est.estimate:e}\")"
   ]
  },
  {
   "cell_type": "code",
   "execution_count": null,
   "metadata": {},
   "outputs": [],
   "source": [
    "# 2.2.c importance sampling\n",
    "S_IS = 55\n",
    "\n",
    "# def prop_gauss_rw(ntrials):\n",
    "# \"\"\"proposal_sampler, Generate a random walk from a sequence of steps\"\"\"\n",
    "\n",
    "# def prop_gauss_rw_pdf(samples):\n",
    "# \"\"\"proposal_pdf_evaluator, Evaluate the pdf of the proposal distribution\"\"\"\n",
    "\n",
    "# def gauss_rw_pdf(samples):\n",
    "# \"\"\"base_pdf_evaluator, Evaluate the pdf of the proposal distribution\"\"\"\n",
    "\n",
    "\n",
    "def gaus_rw_test(samples):\n",
    "    \"\"\"g_evaluator, Evaluate the indicator function for total distance travelled, S > 10\"\"\"\n",
    "    return np.where(np.linalg.norm(np.sum(samples, axis=1), axis=1) > S_IS, 1, 0)\n",
    "\n",
    "# is_est = importance_sampling(\n",
    "    # ntrials, prop_gauss_rw, prop_gauss_rw_pdf, gauss_rw_pdf, gauss_rw_test)"
   ]
  }
 ],
 "metadata": {
  "kernelspec": {
   "display_name": "567repo-ITb6N_oG",
   "language": "python",
   "name": "python3"
  },
  "language_info": {
   "codemirror_mode": {
    "name": "ipython",
    "version": 3
   },
   "file_extension": ".py",
   "mimetype": "text/x-python",
   "name": "python",
   "nbconvert_exporter": "python",
   "pygments_lexer": "ipython3",
   "version": "3.11.6"
  }
 },
 "nbformat": 4,
 "nbformat_minor": 2
}
